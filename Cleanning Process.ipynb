{
 "cells": [
  {
   "cell_type": "code",
   "execution_count": 1,
   "metadata": {},
   "outputs": [],
   "source": [
    "import pandas as pd\n",
    "import numpy as np"
   ]
  },
  {
   "cell_type": "code",
   "execution_count": 2,
   "metadata": {},
   "outputs": [],
   "source": [
    "file_name = 'all_info.csv'"
   ]
  },
  {
   "cell_type": "code",
   "execution_count": 3,
   "metadata": {},
   "outputs": [],
   "source": [
    "allinfotypes = {\"date\":str,\n",
    "                \"PX_LAST\":float,\n",
    "                \"PX_OPEN\":float,\n",
    "                \"PX_HIGH\":float,\n",
    "                \"PX_LOW\":float,\n",
    "                \"PX_VOLUME\":float,\n",
    "                \"TOT_RETURN_INDEX_NET_DVDS\":float,\n",
    "                \"etf\":str}\n",
    "rawdata = pd.read_csv(file_name,sep =\",\",encoding = 'UTF-8', dtype = allinfotypes )"
   ]
  },
  {
   "cell_type": "code",
   "execution_count": 4,
   "metadata": {},
   "outputs": [],
   "source": [
    "rawdata[\"date\"] = pd.to_datetime(rawdata[\"date\"],format = '%Y-%m-%d')"
   ]
  },
  {
   "cell_type": "code",
   "execution_count": 5,
   "metadata": {},
   "outputs": [],
   "source": [
    "columns_relevant = [\"date\",\"TOT_RETURN_INDEX_NET_DVDS\",\"etf\"]\n",
    "datafil = rawdata[columns_relevant].copy()"
   ]
  },
  {
   "cell_type": "code",
   "execution_count": 6,
   "metadata": {
    "scrolled": true
   },
   "outputs": [],
   "source": [
    "datafilind = datafil.set_index(['date','etf']).unstack()\n",
    "cols = [f\"{l1}\" for (l0, l1) in datafilind.columns]\n",
    "datafilind.columns = cols\n",
    "datafilind.reset_index(inplace = True)"
   ]
  },
  {
   "cell_type": "code",
   "execution_count": 7,
   "metadata": {},
   "outputs": [],
   "source": [
    "fill_date = (datafilind['date']>'1994-01-01')"
   ]
  },
  {
   "cell_type": "code",
   "execution_count": 8,
   "metadata": {},
   "outputs": [
    {
     "data": {
      "text/plain": [
       "Index(['date', 'AAXJ US Equity', 'EIDO US Equity', 'EPHE US Equity',\n",
       "       'EWA US Equity', 'EWD US Equity', 'EWG US Equity', 'EWH US Equity',\n",
       "       'EWI US Equity', 'EWL US Equity', 'EWM US Equity', 'EWN US Equity',\n",
       "       'EWP US Equity', 'EWQ US Equity', 'EWS US Equity', 'EWT US Equity',\n",
       "       'EWU US Equity', 'EWY US Equity', 'EZU US Equity', 'IEV US Equity',\n",
       "       'INDA US Equity', 'MCHI US Equity', 'PAK US Equity', 'SPY US Equity',\n",
       "       'THD US Equity', 'XLB US Equity', 'XLC US Equity', 'XLE US Equity',\n",
       "       'XLF US Equity', 'XLI US Equity', 'XLK US Equity', 'XLP US Equity',\n",
       "       'XLU US Equity', 'XLY US Equity'],\n",
       "      dtype='object')"
      ]
     },
     "execution_count": 8,
     "metadata": {},
     "output_type": "execute_result"
    }
   ],
   "source": [
    "datafilind.columns"
   ]
  },
  {
   "cell_type": "code",
   "execution_count": 9,
   "metadata": {},
   "outputs": [],
   "source": [
    "etfs = ['EWI US Equity','EWD US Equity']"
   ]
  },
  {
   "cell_type": "code",
   "execution_count": 10,
   "metadata": {},
   "outputs": [],
   "source": [
    "data_to_prepros = datafilind[['date']+etfs][fill_date].copy()"
   ]
  },
  {
   "cell_type": "code",
   "execution_count": 11,
   "metadata": {},
   "outputs": [],
   "source": [
    "data_to_prepros.set_index('date',inplace = True)"
   ]
  },
  {
   "cell_type": "markdown",
   "metadata": {},
   "source": [
    "## Creación de las caracteristicas"
   ]
  },
  {
   "cell_type": "code",
   "execution_count": 12,
   "metadata": {},
   "outputs": [],
   "source": [
    "data_to_prepros.sort_index(inplace = True)\n",
    "for i in etfs:\n",
    "    name_col = i +'_cp_precio'\n",
    "    data_to_prepros[name_col] =data_to_prepros[[i]].rolling(14, min_periods=14).mean()/data_to_prepros[[i]]\n",
    "    \n",
    "    name_col = i +'_mp_precio'\n",
    "    data_to_prepros[name_col] =data_to_prepros[[i]].rolling(50, min_periods=50).mean()/data_to_prepros[[i]]\n",
    "    \n",
    "    name_col = i +'_lp_precio'\n",
    "    data_to_prepros[name_col] =data_to_prepros[[i]].rolling(200, min_periods=200).mean()/data_to_prepros[[i]]\n",
    "    \n",
    "    name_col = i +'_cp_mp'\n",
    "    data_to_prepros[name_col] =data_to_prepros[[i]].rolling(14, min_periods=14).mean()/data_to_prepros[[i]].rolling(50, min_periods=50).mean()\n",
    "    \n",
    "    name_col = i +'_cp_lp'\n",
    "    data_to_prepros[name_col] =data_to_prepros[[i]].rolling(14, min_periods=14).mean()/data_to_prepros[[i]].rolling(200, min_periods=200).mean()\n",
    "\n",
    "    name_col = i +'_mp_lp'\n",
    "    data_to_prepros[name_col] =data_to_prepros[[i]].rolling(50, min_periods=50).mean()/data_to_prepros[[i]].rolling(200, min_periods=200).mean()\n",
    "\n",
    "    name_col = i +'_compare'\n",
    "    data_to_prepros[name_col] =data_to_prepros[[i]].shift(periods=-5)/data_to_prepros[[i]]"
   ]
  },
  {
   "cell_type": "code",
   "execution_count": 13,
   "metadata": {
    "scrolled": true
   },
   "outputs": [],
   "source": [
    "data_to_prepros['CLASS']= (data_to_prepros['EWI US Equity_compare']>data_to_prepros['EWD US Equity_compare']).astype(int)"
   ]
  },
  {
   "cell_type": "code",
   "execution_count": 14,
   "metadata": {
    "scrolled": true
   },
   "outputs": [
    {
     "data": {
      "text/html": [
       "<div>\n",
       "<style scoped>\n",
       "    .dataframe tbody tr th:only-of-type {\n",
       "        vertical-align: middle;\n",
       "    }\n",
       "\n",
       "    .dataframe tbody tr th {\n",
       "        vertical-align: top;\n",
       "    }\n",
       "\n",
       "    .dataframe thead th {\n",
       "        text-align: right;\n",
       "    }\n",
       "</style>\n",
       "<table border=\"1\" class=\"dataframe\">\n",
       "  <thead>\n",
       "    <tr style=\"text-align: right;\">\n",
       "      <th></th>\n",
       "      <th>EWI US Equity</th>\n",
       "      <th>EWD US Equity</th>\n",
       "      <th>EWI US Equity_cp_precio</th>\n",
       "      <th>EWI US Equity_mp_precio</th>\n",
       "      <th>EWI US Equity_lp_precio</th>\n",
       "      <th>EWI US Equity_cp_mp</th>\n",
       "      <th>EWI US Equity_cp_lp</th>\n",
       "      <th>EWI US Equity_mp_lp</th>\n",
       "      <th>EWI US Equity_compare</th>\n",
       "      <th>EWD US Equity_cp_precio</th>\n",
       "      <th>EWD US Equity_mp_precio</th>\n",
       "      <th>EWD US Equity_lp_precio</th>\n",
       "      <th>EWD US Equity_cp_mp</th>\n",
       "      <th>EWD US Equity_cp_lp</th>\n",
       "      <th>EWD US Equity_mp_lp</th>\n",
       "      <th>EWD US Equity_compare</th>\n",
       "      <th>CLASS</th>\n",
       "    </tr>\n",
       "    <tr>\n",
       "      <th>date</th>\n",
       "      <th></th>\n",
       "      <th></th>\n",
       "      <th></th>\n",
       "      <th></th>\n",
       "      <th></th>\n",
       "      <th></th>\n",
       "      <th></th>\n",
       "      <th></th>\n",
       "      <th></th>\n",
       "      <th></th>\n",
       "      <th></th>\n",
       "      <th></th>\n",
       "      <th></th>\n",
       "      <th></th>\n",
       "      <th></th>\n",
       "      <th></th>\n",
       "      <th></th>\n",
       "    </tr>\n",
       "  </thead>\n",
       "  <tbody>\n",
       "    <tr>\n",
       "      <th>2000-06-06</th>\n",
       "      <td>63.8219</td>\n",
       "      <td>40.8844</td>\n",
       "      <td>0.944053</td>\n",
       "      <td>0.944036</td>\n",
       "      <td>0.929661</td>\n",
       "      <td>1.000018</td>\n",
       "      <td>1.015481</td>\n",
       "      <td>1.015463</td>\n",
       "      <td>1.024629</td>\n",
       "      <td>0.934480</td>\n",
       "      <td>0.958419</td>\n",
       "      <td>0.841988</td>\n",
       "      <td>0.975022</td>\n",
       "      <td>1.109849</td>\n",
       "      <td>1.138281</td>\n",
       "      <td>0.957720</td>\n",
       "      <td>1</td>\n",
       "    </tr>\n",
       "    <tr>\n",
       "      <th>2000-06-07</th>\n",
       "      <td>64.2935</td>\n",
       "      <td>40.8844</td>\n",
       "      <td>0.943415</td>\n",
       "      <td>0.936867</td>\n",
       "      <td>0.923592</td>\n",
       "      <td>1.006990</td>\n",
       "      <td>1.021463</td>\n",
       "      <td>1.014373</td>\n",
       "      <td>1.026894</td>\n",
       "      <td>0.938550</td>\n",
       "      <td>0.957868</td>\n",
       "      <td>0.843718</td>\n",
       "      <td>0.979833</td>\n",
       "      <td>1.112398</td>\n",
       "      <td>1.135294</td>\n",
       "      <td>0.952207</td>\n",
       "      <td>1</td>\n",
       "    </tr>\n",
       "    <tr>\n",
       "      <th>2000-06-08</th>\n",
       "      <td>63.9791</td>\n",
       "      <td>40.2832</td>\n",
       "      <td>0.954194</td>\n",
       "      <td>0.941225</td>\n",
       "      <td>0.928883</td>\n",
       "      <td>1.013779</td>\n",
       "      <td>1.027249</td>\n",
       "      <td>1.013287</td>\n",
       "      <td>1.019655</td>\n",
       "      <td>0.954956</td>\n",
       "      <td>0.971230</td>\n",
       "      <td>0.858043</td>\n",
       "      <td>0.983244</td>\n",
       "      <td>1.112947</td>\n",
       "      <td>1.131913</td>\n",
       "      <td>0.944029</td>\n",
       "      <td>1</td>\n",
       "    </tr>\n",
       "    <tr>\n",
       "      <th>2000-06-09</th>\n",
       "      <td>64.1363</td>\n",
       "      <td>40.1329</td>\n",
       "      <td>0.960609</td>\n",
       "      <td>0.939114</td>\n",
       "      <td>0.927354</td>\n",
       "      <td>1.022888</td>\n",
       "      <td>1.035860</td>\n",
       "      <td>1.012681</td>\n",
       "      <td>1.012254</td>\n",
       "      <td>0.963616</td>\n",
       "      <td>0.974081</td>\n",
       "      <td>0.862979</td>\n",
       "      <td>0.989256</td>\n",
       "      <td>1.116616</td>\n",
       "      <td>1.128743</td>\n",
       "      <td>0.936329</td>\n",
       "      <td>1</td>\n",
       "    </tr>\n",
       "    <tr>\n",
       "      <th>2000-06-12</th>\n",
       "      <td>64.4507</td>\n",
       "      <td>40.3583</td>\n",
       "      <td>0.965156</td>\n",
       "      <td>0.934972</td>\n",
       "      <td>0.923562</td>\n",
       "      <td>1.032284</td>\n",
       "      <td>1.045037</td>\n",
       "      <td>1.012354</td>\n",
       "      <td>1.007316</td>\n",
       "      <td>0.967146</td>\n",
       "      <td>0.968678</td>\n",
       "      <td>0.859899</td>\n",
       "      <td>0.998418</td>\n",
       "      <td>1.124720</td>\n",
       "      <td>1.126502</td>\n",
       "      <td>0.925512</td>\n",
       "      <td>1</td>\n",
       "    </tr>\n",
       "  </tbody>\n",
       "</table>\n",
       "</div>"
      ],
      "text/plain": [
       "            EWI US Equity  EWD US Equity  EWI US Equity_cp_precio  \\\n",
       "date                                                                \n",
       "2000-06-06        63.8219        40.8844                 0.944053   \n",
       "2000-06-07        64.2935        40.8844                 0.943415   \n",
       "2000-06-08        63.9791        40.2832                 0.954194   \n",
       "2000-06-09        64.1363        40.1329                 0.960609   \n",
       "2000-06-12        64.4507        40.3583                 0.965156   \n",
       "\n",
       "            EWI US Equity_mp_precio  EWI US Equity_lp_precio  \\\n",
       "date                                                           \n",
       "2000-06-06                 0.944036                 0.929661   \n",
       "2000-06-07                 0.936867                 0.923592   \n",
       "2000-06-08                 0.941225                 0.928883   \n",
       "2000-06-09                 0.939114                 0.927354   \n",
       "2000-06-12                 0.934972                 0.923562   \n",
       "\n",
       "            EWI US Equity_cp_mp  EWI US Equity_cp_lp  EWI US Equity_mp_lp  \\\n",
       "date                                                                        \n",
       "2000-06-06             1.000018             1.015481             1.015463   \n",
       "2000-06-07             1.006990             1.021463             1.014373   \n",
       "2000-06-08             1.013779             1.027249             1.013287   \n",
       "2000-06-09             1.022888             1.035860             1.012681   \n",
       "2000-06-12             1.032284             1.045037             1.012354   \n",
       "\n",
       "            EWI US Equity_compare  EWD US Equity_cp_precio  \\\n",
       "date                                                         \n",
       "2000-06-06               1.024629                 0.934480   \n",
       "2000-06-07               1.026894                 0.938550   \n",
       "2000-06-08               1.019655                 0.954956   \n",
       "2000-06-09               1.012254                 0.963616   \n",
       "2000-06-12               1.007316                 0.967146   \n",
       "\n",
       "            EWD US Equity_mp_precio  EWD US Equity_lp_precio  \\\n",
       "date                                                           \n",
       "2000-06-06                 0.958419                 0.841988   \n",
       "2000-06-07                 0.957868                 0.843718   \n",
       "2000-06-08                 0.971230                 0.858043   \n",
       "2000-06-09                 0.974081                 0.862979   \n",
       "2000-06-12                 0.968678                 0.859899   \n",
       "\n",
       "            EWD US Equity_cp_mp  EWD US Equity_cp_lp  EWD US Equity_mp_lp  \\\n",
       "date                                                                        \n",
       "2000-06-06             0.975022             1.109849             1.138281   \n",
       "2000-06-07             0.979833             1.112398             1.135294   \n",
       "2000-06-08             0.983244             1.112947             1.131913   \n",
       "2000-06-09             0.989256             1.116616             1.128743   \n",
       "2000-06-12             0.998418             1.124720             1.126502   \n",
       "\n",
       "            EWD US Equity_compare  CLASS  \n",
       "date                                      \n",
       "2000-06-06               0.957720      1  \n",
       "2000-06-07               0.952207      1  \n",
       "2000-06-08               0.944029      1  \n",
       "2000-06-09               0.936329      1  \n",
       "2000-06-12               0.925512      1  "
      ]
     },
     "execution_count": 14,
     "metadata": {},
     "output_type": "execute_result"
    }
   ],
   "source": [
    "data_to_prepros.dropna(inplace = True)\n",
    "data_to_prepros.head()"
   ]
  },
  {
   "cell_type": "code",
   "execution_count": 15,
   "metadata": {},
   "outputs": [],
   "source": [
    "data_to_prepros.to_csv('EWI_US_EWD_US.csv', decimal = '.',sep = ';')"
   ]
  },
  {
   "cell_type": "code",
   "execution_count": null,
   "metadata": {},
   "outputs": [],
   "source": []
  }
 ],
 "metadata": {
  "kernelspec": {
   "display_name": "Python 3",
   "language": "python",
   "name": "python3"
  },
  "language_info": {
   "codemirror_mode": {
    "name": "ipython",
    "version": 3
   },
   "file_extension": ".py",
   "mimetype": "text/x-python",
   "name": "python",
   "nbconvert_exporter": "python",
   "pygments_lexer": "ipython3",
   "version": "3.6.5"
  }
 },
 "nbformat": 4,
 "nbformat_minor": 2
}
